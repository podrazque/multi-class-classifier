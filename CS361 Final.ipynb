{
 "cells": [
  {
   "cell_type": "code",
   "execution_count": 1,
   "metadata": {},
   "outputs": [],
   "source": [
    "from os import listdir\n",
    "from os.path import isfile, join\n",
    "from sklearn.cluster import KMeans\n",
    "import numpy as np\n",
    "import pandas as pd\n",
    "import matplotlib.pyplot as plt\n",
    "import scipy.stats\n",
    "from sklearn.model_selection import train_test_split\n",
    "from sklearn.ensemble import RandomForestClassifier\n",
    "from sklearn import metrics"
   ]
  },
  {
   "cell_type": "code",
   "execution_count": 2,
   "metadata": {},
   "outputs": [
    {
     "name": "stdout",
     "output_type": "stream",
     "text": [
      "Reading data from files...\n",
      "All done!\n"
     ]
    }
   ],
   "source": [
    "DATASET_DIR = \"HMP_Dataset\"\n",
    "TRAINING_SETS = np.array(['Use_telephone', 'Standup_chair', 'Walk', 'Climb_stairs', 'Sitdown_chair', 'Brush_teeth', 'Comb_hair', 'Eat_soup', 'Pour_water', 'Descend_stairs', 'Eat_meat', 'Drink_glass', 'Getup_bed', 'Liedown_bed'])\n",
    "\n",
    "all_data = {}\n",
    "\n",
    "print(\"Reading data from files...\")\n",
    "\n",
    "def initial_setup():\n",
    "    for dataset in TRAINING_SETS:\n",
    "        all_data[dataset] = []\n",
    "        for f in listdir(join(DATASET_DIR, dataset)):\n",
    "            all_data[dataset].append(np.array(np.genfromtxt(join(DATASET_DIR, dataset, f), usecols=(0, 1, 2))))\n",
    "        all_data[dataset] = np.array(all_data[dataset])\n",
    "\n",
    "print(\"All done!\")"
   ]
  },
  {
   "cell_type": "code",
   "execution_count": 3,
   "metadata": {},
   "outputs": [],
   "source": [
    "def blockshaped(arr, nrows, ncols):\n",
    "    h, w = arr.shape\n",
    "    return (arr.reshape(h//nrows, nrows, -1, ncols)\n",
    "               .swapaxes(1,2)\n",
    "               .reshape(-1, nrows, ncols))"
   ]
  },
  {
   "cell_type": "code",
   "execution_count": 4,
   "metadata": {},
   "outputs": [],
   "source": [
    "def chunkify(chunk_me):\n",
    "    dif = chunk_me.shape[0]%32\n",
    "    chunk_me = chunk_me[dif:,:]\n",
    "    chunk_me = blockshaped(chunk_me, 32, 3)\n",
    "    return chunk_me"
   ]
  },
  {
   "cell_type": "code",
   "execution_count": 5,
   "metadata": {},
   "outputs": [],
   "source": [
    "initial_setup()\n",
    "chunkified_data = all_data\n",
    "for k in TRAINING_SETS:\n",
    "    for i in range(len(all_data[k])):\n",
    "        chunkified_data[k][i] = chunkify(all_data[k][i])"
   ]
  },
  {
   "cell_type": "code",
   "execution_count": 6,
   "metadata": {},
   "outputs": [],
   "source": [
    "flattened_data = chunkified_data\n",
    "flat_stuff = {}\n",
    "huge_matrix = []\n",
    "for k in TRAINING_SETS:\n",
    "    flat_stuff[k] = []\n",
    "    for j in range(len(flattened_data[k])):\n",
    "        for i in range(len(flattened_data[k][j])):\n",
    "            flat_stuff[k].append(flattened_data[k][j][i].reshape(96))\n",
    "            huge_matrix.append(flattened_data[k][j][i].reshape(96))\n",
    "    flat_stuff[k] = np.asarray(flat_stuff[k])\n",
    "huge_matrix = np.asarray(huge_matrix)"
   ]
  },
  {
   "cell_type": "code",
   "execution_count": 7,
   "metadata": {},
   "outputs": [
    {
     "name": "stdout",
     "output_type": "stream",
     "text": [
      "(470, 96)\n",
      "(745, 96)\n",
      "(2835, 96)\n",
      "(1210, 96)\n",
      "(727, 96)\n",
      "(926, 96)\n",
      "(722, 96)\n",
      "(207, 96)\n",
      "(1254, 96)\n",
      "(460, 96)\n",
      "(974, 96)\n",
      "(1288, 96)\n",
      "(1381, 96)\n",
      "(345, 96)\n"
     ]
    }
   ],
   "source": [
    "for i in TRAINING_SETS:\n",
    "    print(flat_stuff[i].shape)"
   ]
  },
  {
   "cell_type": "code",
   "execution_count": 8,
   "metadata": {},
   "outputs": [
    {
     "name": "stdout",
     "output_type": "stream",
     "text": [
      "[[36. 42. 50. ... 38. 37. 50.]\n",
      " [37. 40. 49. ... 21. 33. 53.]\n",
      " [21. 31. 53. ... 32. 44. 42.]\n",
      " ...\n",
      " [35. 41. 50. ... 34. 39. 51.]\n",
      " [34. 40. 51. ... 35. 38. 53.]\n",
      " [35. 39. 51. ... 34. 38. 52.]]\n",
      "(13544, 96)\n"
     ]
    }
   ],
   "source": [
    "print(huge_matrix)\n",
    "print(huge_matrix.shape)"
   ]
  },
  {
   "cell_type": "code",
   "execution_count": 9,
   "metadata": {},
   "outputs": [],
   "source": [
    "trainingMushrooms, testingMushrooms = train_test_split(huge_matrix, test_size=.2, train_size=.8, shuffle=False)\n",
    "\n",
    "dependent = np.array(trainingMushrooms)\n",
    "independent = np.array(trainingMushrooms)[:,2:]\n",
    "\n",
    "clf = RandomForestClassifier(n_estimators=100, max_depth=2, random_state=0)\n",
    "clf.fit(independent, dependent)\n",
    "\n",
    "indTest = np.array(testingMushrooms)[:,2:]\n",
    "\n",
    "test1 = np.array(testingMushrooms)\n",
    "test2 = clf.predict(indTest)"
   ]
  },
  {
   "cell_type": "code",
   "execution_count": 15,
   "metadata": {},
   "outputs": [
    {
     "data": {
      "text/plain": [
       "array([[41., 38., 50., ..., 45., 33., 50.],\n",
       "       [44., 35., 50., ..., 45., 30., 50.],\n",
       "       [45., 30., 49., ..., 44., 29., 50.],\n",
       "       ...,\n",
       "       [35., 41., 50., ..., 34., 39., 51.],\n",
       "       [34., 40., 51., ..., 35., 38., 53.],\n",
       "       [35., 39., 51., ..., 34., 38., 52.]])"
      ]
     },
     "execution_count": 15,
     "metadata": {},
     "output_type": "execute_result"
    }
   ],
   "source": [
    "test1"
   ]
  },
  {
   "cell_type": "code",
   "execution_count": 16,
   "metadata": {},
   "outputs": [
    {
     "data": {
      "text/plain": [
       "array([[33., 45., 49., ..., 34., 43., 50.],\n",
       "       [33., 45., 50., ..., 34., 38., 50.],\n",
       "       [35., 45., 49., ..., 34., 43., 50.],\n",
       "       ...,\n",
       "       [33., 38., 52., ..., 33., 38., 52.],\n",
       "       [33., 38., 52., ..., 33., 38., 52.],\n",
       "       [33., 38., 52., ..., 33., 38., 52.]])"
      ]
     },
     "execution_count": 16,
     "metadata": {},
     "output_type": "execute_result"
    }
   ],
   "source": [
    "test2"
   ]
  },
  {
   "cell_type": "code",
   "execution_count": null,
   "metadata": {},
   "outputs": [],
   "source": []
  }
 ],
 "metadata": {
  "kernelspec": {
   "display_name": "Python 3",
   "language": "python",
   "name": "python3"
  },
  "language_info": {
   "codemirror_mode": {
    "name": "ipython",
    "version": 3
   },
   "file_extension": ".py",
   "mimetype": "text/x-python",
   "name": "python",
   "nbconvert_exporter": "python",
   "pygments_lexer": "ipython3",
   "version": "3.7.0"
  }
 },
 "nbformat": 4,
 "nbformat_minor": 2
}
